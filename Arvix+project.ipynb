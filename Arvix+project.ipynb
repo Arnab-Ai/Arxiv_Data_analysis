{
 "cells": [
  {
   "cell_type": "code",
   "execution_count": null,
   "metadata": {
    "collapsed": false
   },
   "outputs": [
    {
     "name": "stdout",
     "output_type": "stream",
     "text": [
      "0\n",
      "10\n",
      "Total number of paper store: 10\n",
      "11\n",
      "20\n",
      "Total number of paper store: 10\n",
      "21\n",
      "30\n",
      "Total number of paper store: 10\n",
      "31\n",
      "40\n",
      "Total number of paper store: 10\n",
      "41\n",
      "50\n",
      "Total number of paper store: 10\n",
      "51\n",
      "60\n",
      "Total number of paper store: 10\n",
      "61\n",
      "70\n",
      "Total number of paper store: 10\n",
      "71\n",
      "80\n",
      "Total number of paper store: 10\n",
      "81\n",
      "90\n",
      "Total number of paper store: 10\n",
      "91\n",
      "100\n",
      "Total number of paper store: 10\n",
      "101\n",
      "110\n"
     ]
    }
   ],
   "source": [
    "import sys\n",
    "import urllib.request\n",
    "\n",
    "def get_MetaData(start,end):\n",
    "    print(start)\n",
    "    print(end)\n",
    "    try:\n",
    "        url = 'http://export.arxiv.org/api/query?search_query=cat:cs.CV%20OR%20cat:cs.AI%20OR%20cat:cs.LG%20OR%20cat:cs.CL%20OR%20cat:cs.NE%20OR%20cat:stat.ML&id_list=&start='+str(start)+'&max_results='+str(end)\n",
    "        data = urllib.request.urlopen(url).read()\n",
    "        return data\n",
    "    except:\n",
    "        print('Error in retriving of data from '+str(url))\n",
    "        return False\n",
    "\n",
    "def store_MetaData(data):\n",
    "    try:\n",
    "        file = open(r'/home/neel/arxiv_data/test_data.xml','w+',encoding='utf8')\n",
    "        file.write(str(data))\n",
    "        file.close()\n",
    "    except IOError as e:\n",
    "        print('Error in writing file.'+str(e))\n",
    "    \n",
    "def main():\n",
    "    loop_count=0\n",
    "    paper_count=10\n",
    "    start_num=0\n",
    "    end_num=10\n",
    "    while loop_count < 2600:\n",
    "        meta_data=get_MetaData(start_num,end_num)\n",
    "        if meta_data != False:\n",
    "            store_MetaData(meta_data)\n",
    "            print(\"Total number of paper store: \"+str(paper_count))\n",
    "            start_num=end_num+1\n",
    "            end_num=end_num+10\n",
    "        else:\n",
    "            print('Error occure: you have to start download from '+str(start_num))\n",
    "    return None\n",
    "\n",
    "if __name__=='__main__':\n",
    "    main()"
   ]
  },
  {
   "cell_type": "code",
   "execution_count": null,
   "metadata": {
    "collapsed": false
   },
   "outputs": [],
   "source": [
    "import os\n",
    "\n",
    "print(os.getcwd())"
   ]
  }
 ],
 "metadata": {
  "kernelspec": {
   "display_name": "Python 3",
   "language": "python",
   "name": "python3"
  },
  "language_info": {
   "codemirror_mode": {
    "name": "ipython",
    "version": 3
   },
   "file_extension": ".py",
   "mimetype": "text/x-python",
   "name": "python",
   "nbconvert_exporter": "python",
   "pygments_lexer": "ipython3",
   "version": "3.6.0"
  }
 },
 "nbformat": 4,
 "nbformat_minor": 2
}
